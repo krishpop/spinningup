{
 "cells": [
  {
   "cell_type": "code",
   "execution_count": 1,
   "metadata": {},
   "outputs": [
    {
     "name": "stdout",
     "output_type": "stream",
     "text": [
      "WARNING:tensorflow:\n",
      "The TensorFlow contrib module will not be included in TensorFlow 2.0.\n",
      "For more information, please see:\n",
      "  * https://github.com/tensorflow/community/blob/master/rfcs/20180907-contrib-sunset.md\n",
      "  * https://github.com/tensorflow/addons\n",
      "  * https://github.com/tensorflow/io (for I/O related ops)\n",
      "If you depend on functionality not listed there, please file an issue.\n",
      "\n"
     ]
    }
   ],
   "source": [
    "import gym\n",
    "import os\n",
    "import os.path as osp\n",
    "import time\n",
    "import numpy as np\n",
    "\n",
    "from stable_baselines import HER, TD3\n",
    "from stable_baselines.common.atari_wrappers import FrameStack\n",
    "from rrc_iprl_package.envs import custom_env, rrc_utils, env_wrappers\n",
    "from gym.wrappers import FilterObservation"
   ]
  },
  {
   "cell_type": "code",
   "execution_count": 2,
   "metadata": {},
   "outputs": [],
   "source": [
    "def make_reorient_env_p1():\n",
    "    info_keys = ['is_success', 'is_success_ori_dist', 'dist', 'final_dist', 'final_score',\n",
    "                 'final_ori_dist']\n",
    "\n",
    "    wrappers = [gym.wrappers.ClipAction,\n",
    "                {'cls': custom_env.LogInfoWrapper,\n",
    "                 'kwargs': dict(info_keys=info_keys)},\n",
    "                {'cls': custom_env.CubeRewardWrapper,\n",
    "                 'kwargs': dict(pos_coef=1., ori_coef=1.,\n",
    "                                ac_norm_pen=0.2, rew_fn='exp',\n",
    "                                goal_env=True)},\n",
    "                {'cls': custom_env.ReorientWrapper,\n",
    "                 'kwargs': dict(goal_env=True)},\n",
    "                {'cls': gym.wrappers.TimeLimit,\n",
    "                 'kwargs': dict(max_episode_steps=rrc_utils.EPLEN)},\n",
    "                custom_env.FlattenGoalWrapper]\n",
    "    initializer = custom_env.ReorientInitializer(1, 0.1)\n",
    "    env_fn = rrc_utils.make_env_fn('real_robot_challenge_phase_1-v1', wrapper_params=wrappers,\n",
    "                                   action_type=rrc_utils.action_type,\n",
    "                                   initializer=initializer,\n",
    "                                   frameskip=rrc_utils.FRAMESKIP,\n",
    "                                   visualization=False)\n",
    "    env = env_fn()\n",
    "    return env\n",
    "\n",
    "\n",
    "def make_curr_env_p1():\n",
    "    info_keys = ['is_success_ori_dist', 'dist', 'final_dist', 'final_score',\n",
    "                 'final_ori_dist', 'goal_sample_radius',\n",
    "                 'init_sample_radius']\n",
    "\n",
    "    wrappers = [gym.wrappers.ClipAction, \n",
    "                {'cls': custom_env.LogInfoWrapper,\n",
    "                 'kwargs': dict(info_keys=info_keys)},\n",
    "                {'cls': gym.wrappers.TimeLimit,\n",
    "                 'kwargs': dict(max_episode_steps=rrc_utils.EPLEN)},\n",
    "                custom_env.FlattenGoalWrapper,]\n",
    "\n",
    "    env_fn = rrc_utils.make_env_fn('real_robot_challenge_phase_1-v4', wrapper_params=wrappers,\n",
    "                                   action_type=rrc_utils.action_type,\n",
    "                                   initializer=rrc_utils.push_curr_initializer,\n",
    "                                   frameskip=rrc_utils.FRAMESKIP,\n",
    "                                   visualization=False)\n",
    "    env = env_fn()\n",
    "    return env\n",
    "\n",
    "\n",
    "def make_curr_env_p2():\n",
    "    env_fn = rrc_utils.build_env_fn(goal_env=True)\n",
    "    env = env_fn()\n",
    "    return env"
   ]
  },
  {
   "cell_type": "code",
   "execution_count": 3,
   "metadata": {},
   "outputs": [
    {
     "name": "stderr",
     "output_type": "stream",
     "text": [
      "/scr1/.pyenv/versions/miniconda3-latest/envs/rrc/lib/python3.6/site-packages/gym/logger.py:30: UserWarning: \u001b[33mWARN: Box bound precision lowered by casting to float32\u001b[0m\n",
      "  warnings.warn(colorize('%s: %s'%('WARN', msg % args), 'yellow'))\n"
     ]
    }
   ],
   "source": [
    "env = make_curr_env_p2()\n",
    "env = FilterObservation(env, ['achieved_goal', 'desired_goal', 'observation'])"
   ]
  },
  {
   "cell_type": "code",
   "execution_count": 5,
   "metadata": {},
   "outputs": [
    {
     "name": "stdout",
     "output_type": "stream",
     "text": [
      "Loading a model without an environment, this model cannot be trained until it has a valid environment.\n"
     ]
    },
    {
     "data": {
      "text/plain": [
       "<stable_baselines.her.her.HER at 0x7f291421d9e8>"
      ]
     },
     "execution_count": 5,
     "metadata": {},
     "output_type": "execute_result"
    }
   ],
   "source": [
    "exp_dir = './data/HER-SAC_sparse_push/2020-09-18_12-28-22/'\n",
    "load_dir = osp.join(exp_dir, '2e6-steps.zip') # './data/HER-SAC_push_reorient/2020-09-20_15-58-02/1e6-steps.zip'\n",
    "model = HER('MlpPolicy', env, TD3, n_sampled_goal=4,\n",
    "            tensorboard_log=exp_dir,\n",
    "            goal_selection_strategy='future',\n",
    "            verbose=1, buffer_size=int(1e6),\n",
    "            learning_rate=3e-4,\n",
    "            gamma=0.95, batch_size=100,\n",
    "            policy_kwargs=dict(layers=[256, 256]))\n",
    "model.load(load_dir)"
   ]
  },
  {
   "cell_type": "code",
   "execution_count": 6,
   "metadata": {},
   "outputs": [
    {
     "data": {
      "text/plain": [
       "0"
      ]
     },
     "execution_count": 6,
     "metadata": {},
     "output_type": "execute_result"
    }
   ],
   "source": [
    "n_eps = 10\n",
    "final_infos = []\n",
    "\n",
    "for _ in range(n_eps):\n",
    "    d = False\n",
    "    obs = env.reset()\n",
    "\n",
    "    r_total = 0\n",
    "    while not d:\n",
    "        obs, r, d, i = env.step(model.predict(obs)[0])\n",
    "        r_total += r\n",
    "    i['total_rew'] = r_total\n",
    "    final_infos.append(i)\n",
    "    \n",
    "print('total_rew:', np.mean([i['total_rew'] for i in final_infos]),\n",
    "      'final_dist min:', np.min([i['final_dist'] for i in final_infos]), \n",
    "      'final_dist mean:', np.mean([i['final_dist'] for i in final_infos]), \n",
    "      'final_dist std:', np.std([i['final_dist'] for i in final_infos]))"
   ]
  },
  {
   "cell_type": "code",
   "execution_count": null,
   "metadata": {
    "scrolled": true
   },
   "outputs": [
    {
     "name": "stdout",
     "output_type": "stream",
     "text": [
      "WARNING:tensorflow:From /scr1/Developer/Libraries/stable-baselines/stable_baselines/common/tf_util.py:191: The name tf.ConfigProto is deprecated. Please use tf.compat.v1.ConfigProto instead.\n",
      "\n",
      "WARNING:tensorflow:From /scr1/Developer/Libraries/stable-baselines/stable_baselines/common/tf_util.py:200: The name tf.Session is deprecated. Please use tf.compat.v1.Session instead.\n",
      "\n",
      "WARNING:tensorflow:From /scr1/Developer/Libraries/stable-baselines/stable_baselines/td3/td3.py:131: The name tf.variable_scope is deprecated. Please use tf.compat.v1.variable_scope instead.\n",
      "\n",
      "WARNING:tensorflow:From /scr1/Developer/Libraries/stable-baselines/stable_baselines/common/input.py:25: The name tf.placeholder is deprecated. Please use tf.compat.v1.placeholder instead.\n",
      "\n",
      "WARNING:tensorflow:From /scr1/Developer/Libraries/stable-baselines/stable_baselines/td3/policies.py:124: flatten (from tensorflow.python.layers.core) is deprecated and will be removed in a future version.\n",
      "Instructions for updating:\n",
      "Use keras.layers.flatten instead.\n",
      "WARNING:tensorflow:From /scr1/.pyenv/versions/miniconda3-latest/envs/rrc/lib/python3.6/site-packages/tensorflow_core/python/layers/core.py:332: Layer.apply (from tensorflow.python.keras.engine.base_layer) is deprecated and will be removed in a future version.\n",
      "Instructions for updating:\n",
      "Please use `layer.__call__` method instead.\n",
      "WARNING:tensorflow:From /scr1/Developer/Libraries/stable-baselines/stable_baselines/common/tf_layers.py:57: dense (from tensorflow.python.layers.core) is deprecated and will be removed in a future version.\n",
      "Instructions for updating:\n",
      "Use keras.layers.Dense instead.\n",
      "WARNING:tensorflow:From /scr1/Developer/Libraries/stable-baselines/stable_baselines/td3/td3.py:164: The name tf.random_normal is deprecated. Please use tf.random.normal instead.\n",
      "\n",
      "WARNING:tensorflow:From /scr1/Developer/Libraries/stable-baselines/stable_baselines/td3/td3.py:194: The name tf.train.AdamOptimizer is deprecated. Please use tf.compat.v1.train.AdamOptimizer instead.\n",
      "\n",
      "WARNING:tensorflow:From /scr1/Developer/Libraries/stable-baselines/stable_baselines/common/tf_util.py:449: The name tf.get_collection is deprecated. Please use tf.compat.v1.get_collection instead.\n",
      "\n",
      "WARNING:tensorflow:From /scr1/Developer/Libraries/stable-baselines/stable_baselines/common/tf_util.py:449: The name tf.GraphKeys is deprecated. Please use tf.compat.v1.GraphKeys instead.\n",
      "\n",
      "WARNING:tensorflow:From /scr1/Developer/Libraries/stable-baselines/stable_baselines/td3/td3.py:209: The name tf.assign is deprecated. Please use tf.compat.v1.assign instead.\n",
      "\n",
      "WARNING:tensorflow:From /scr1/.pyenv/versions/miniconda3-latest/envs/rrc/lib/python3.6/site-packages/tensorflow_core/python/ops/math_grad.py:1375: where (from tensorflow.python.ops.array_ops) is deprecated and will be removed in a future version.\n",
      "Instructions for updating:\n",
      "Use tf.where in 2.0, which has the same broadcast rule as np.where\n",
      "WARNING:tensorflow:From /scr1/Developer/Libraries/stable-baselines/stable_baselines/td3/td3.py:226: The name tf.summary.scalar is deprecated. Please use tf.compat.v1.summary.scalar instead.\n",
      "\n",
      "WARNING:tensorflow:From /scr1/Developer/Libraries/stable-baselines/stable_baselines/td3/td3.py:237: The name tf.global_variables_initializer is deprecated. Please use tf.compat.v1.global_variables_initializer instead.\n",
      "\n",
      "WARNING:tensorflow:From /scr1/Developer/Libraries/stable-baselines/stable_baselines/td3/td3.py:240: The name tf.summary.merge_all is deprecated. Please use tf.compat.v1.summary.merge_all instead.\n",
      "\n",
      "WARNING:tensorflow:From /scr1/Developer/Libraries/stable-baselines/stable_baselines/common/base_class.py:1169: The name tf.summary.FileWriter is deprecated. Please use tf.compat.v1.summary.FileWriter instead.\n",
      "\n"
     ]
    },
    {
     "name": "stderr",
     "output_type": "stream",
     "text": [
      "/scr-ssd/ksrini/trifinger_simulation/python/trifinger_simulation/trifinger_platform.py:291: UserWarning: Cameras are not enabled, so images in the camera observation are not initialized.  Create `TriFingerPlatform` with `enable_cameras=True` to get rendered camera images.\n",
      "  \"Cameras are not enabled, so images in the camera observation\"\n"
     ]
    },
    {
     "name": "stdout",
     "output_type": "stream",
     "text": [
      "WARNING:tensorflow:From /scr1/Developer/Libraries/stable-baselines/stable_baselines/common/tf_util.py:502: The name tf.Summary is deprecated. Please use tf.compat.v1.Summary instead.\n",
      "\n"
     ]
    }
   ],
   "source": [
    "exp_root = './data'\n",
    "hms_time = time.strftime(\"%Y-%m-%d_%H-%M-%S\")\n",
    "exp_name = 'HER-TD3_push_reorient'\n",
    "exp_dir = osp.join(exp_root, exp_name, hms_time)\n",
    "os.makedirs(exp_dir)\n",
    "\n",
    "model = HER('MlpPolicy', env, TD3, n_sampled_goal=4,\n",
    "            tensorboard_log=exp_dir,\n",
    "            goal_selection_strategy='future',\n",
    "            verbose=1, buffer_size=int(1e6),\n",
    "            learning_rate=3e-4,\n",
    "            gamma=0.95, batch_size=100,\n",
    "            policy_kwargs=dict(layers=[256, 256]))\n",
    "\n",
    "# Train for 1e6 steps\n",
    "model.learn(int(1e6),)\n",
    "# Save the trained agent\n",
    "model.save(osp.join(exp_dir, '1e6-steps'))"
   ]
  }
 ],
 "metadata": {
  "kernelspec": {
   "display_name": "Python 3",
   "language": "python",
   "name": "python3"
  },
  "language_info": {
   "codemirror_mode": {
    "name": "ipython",
    "version": 3
   },
   "file_extension": ".py",
   "mimetype": "text/x-python",
   "name": "python",
   "nbconvert_exporter": "python",
   "pygments_lexer": "ipython3",
   "version": "3.6.9"
  },
  "toc": {
   "base_numbering": 1,
   "nav_menu": {},
   "number_sections": true,
   "sideBar": true,
   "skip_h1_title": false,
   "title_cell": "Table of Contents",
   "title_sidebar": "Contents",
   "toc_cell": false,
   "toc_position": {},
   "toc_section_display": true,
   "toc_window_display": false
  }
 },
 "nbformat": 4,
 "nbformat_minor": 4
}
