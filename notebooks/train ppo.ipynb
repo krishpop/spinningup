{
 "cells": [
  {
   "cell_type": "code",
   "execution_count": 18,
   "metadata": {},
   "outputs": [],
   "source": [
    "%matplotlib inline\n",
    "import numpy as np\n",
    "import os\n",
    "import os.path as osp\n",
    "import gym\n",
    "import imageio\n",
    "import matplotlib.pyplot as plt\n",
    "\n",
    "from torch import nn\n",
    "from IPython.display import Image, Video\n",
    "from gym import wrappers\n",
    "from spinup.utils import rrc_utils, test_policy\n",
    "from rrc_simulation.gym_wrapper.envs import cube_env"
   ]
  },
  {
   "cell_type": "code",
   "execution_count": 2,
   "metadata": {},
   "outputs": [],
   "source": [
    "env_fn = rrc_utils.make_env_fn('rrc_simulation.gym_wrapper:real_robot_challenge_phase_push-v1',\n",
    "                               enable_cameras=True)\n",
    "env = env_fn()"
   ]
  },
  {
   "cell_type": "code",
   "execution_count": null,
   "metadata": {},
   "outputs": [],
   "source": [
    "env.reset()\n",
    "plt.imshow(env.render())"
   ]
  },
  {
   "cell_type": "code",
   "execution_count": 4,
   "metadata": {},
   "outputs": [],
   "source": [
    "env_fn = rrc_utils.rrc_ppo_env_fn\n",
    "ac_kwargs = dict(hidden_sizes=[64,64], activation=nn.Tanh)\n",
    "logger_kwargs = dict(output_dir='./data/ppo_rrc_cube', exp_name='cube_rrc')"
   ]
  },
  {
   "cell_type": "code",
   "execution_count": 49,
   "metadata": {},
   "outputs": [],
   "source": [
    "load_path = '/scr1/Developer/Projects/spinningup/data/td3_rrc_t1/td3_rrc_t1_s0'\n",
    "exp_name = osp.split(load_path.rstrip('/'))[1]\n",
    "\n",
    "vid_dir = osp.join('./videos', exp_name)\n",
    "if not osp.exists(vid_dir):\n",
    "    os.makedirs(vid_dir)\n",
    "\n",
    "i = 0\n",
    "vid_save_path = lambda: osp.join(vid_dir, 'ep_{}.mp4'.format(i))\n",
    "\n",
    "while osp.exists(vid_save_path()): i +=1 \n",
    "vid_save_path = vid_save_path()"
   ]
  },
  {
   "cell_type": "code",
   "execution_count": 51,
   "metadata": {},
   "outputs": [
    {
     "name": "stdout",
     "output_type": "stream",
     "text": [
      "\n",
      "\n",
      "Loading from /scr1/Developer/Projects/spinningup/data/td3_rrc_t1/td3_rrc_t1_s0/pyt_save/model.pt.\n",
      "\n",
      "\n"
     ]
    }
   ],
   "source": [
    "env, policy = test_policy.load_policy_and_env(load_path, 'last', True)\n",
    "\n",
    "if env is None:\n",
    "    env = rrc_utils.rrc_ppo_env_fn()"
   ]
  },
  {
   "cell_type": "code",
   "execution_count": 53,
   "metadata": {},
   "outputs": [],
   "source": [
    "%%time\n",
    "obs = env.reset()\n",
    "env.unwrapped.platform.enable_cameras = True\n",
    "env.render = lambda: env.unwrapped.platform.get_camera_observation(env.step_count).cameras[1].image\n",
    "d = False\n",
    "# frames = [env.render()]\n",
    "\n",
    "while not d:\n",
    "    obs, r, d, i = env.step(policy(obs))\n",
    "#     frames.append(env.render())"
   ]
  },
  {
   "cell_type": "code",
   "execution_count": 47,
   "metadata": {},
   "outputs": [
    {
     "data": {
      "text/plain": [
       "12"
      ]
     },
     "execution_count": 47,
     "metadata": {},
     "output_type": "execute_result"
    }
   ],
   "source": [
    "with imageio.get_writer(vid_save_path) as writer:\n",
    "    for frame in frames:\n",
    "        writer.append_data(frame)"
   ]
  },
  {
   "cell_type": "code",
   "execution_count": 22,
   "metadata": {},
   "outputs": [
    {
     "data": {
      "text/plain": [
       "{'robot_position': array([ 0.        ,  1.22173047, -2.26892805,  0.        ,  1.22173047,\n",
       "        -2.26892805,  0.        ,  1.22173047, -2.26892805]),\n",
       " 'robot_velocity': array([0., 0., 0., 0., 0., 0., 0., 0., 0.]),\n",
       " 'robot_tip_positions': array([[ 0.08457   ,  0.06003509,  0.15397678],\n",
       "        [ 0.00970691, -0.10325731,  0.15397678],\n",
       "        [-0.09427691,  0.04322223,  0.15397678]]),\n",
       " 'object_position': array([ 0.01153694, -0.06141343,  0.0325    ]),\n",
       " 'object_orientation': array([ 0.        ,  0.        ,  0.93348761, -0.35860964]),\n",
       " 'goal_object_position': array([-0.00781044,  0.1087707 ,  0.0325    ])}"
      ]
     },
     "execution_count": 22,
     "metadata": {},
     "output_type": "execute_result"
    }
   ],
   "source": [
    "obs"
   ]
  },
  {
   "cell_type": "code",
   "execution_count": null,
   "metadata": {},
   "outputs": [],
   "source": [
    "ppo(env_fn=env_fn, ac_kwargs=ac_kwargs, steps_per_epoch=5000, epochs=250, logger_kwargs=logger_kwargs)"
   ]
  }
 ],
 "metadata": {
  "kernelspec": {
   "display_name": "Python 3",
   "language": "python",
   "name": "python3"
  },
  "language_info": {
   "codemirror_mode": {
    "name": "ipython",
    "version": 3
   },
   "file_extension": ".py",
   "mimetype": "text/x-python",
   "name": "python",
   "nbconvert_exporter": "python",
   "pygments_lexer": "ipython3",
   "version": "3.6.9"
  }
 },
 "nbformat": 4,
 "nbformat_minor": 4
}
